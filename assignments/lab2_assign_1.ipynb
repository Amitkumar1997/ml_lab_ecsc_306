{
 "cells": [
  {
   "cell_type": "markdown",
   "metadata": {
    "slideshow": {
     "slide_type": "slide"
    }
   },
   "source": [
    "Write a program using tensorflow to build a stochastic gradient descent model for linear regression.\n"
   ]
  },
  {
   "cell_type": "markdown",
   "metadata": {
    "slideshow": {
     "slide_type": "slide"
    }
   },
   "source": [
    "\n",
    "## Previous Work \n",
    "\n",
    "Co-efficients $\\theta_1$ & $\\theta_0$ for\n",
    "\n",
    "$$y=\\theta_0 + \\theta_1x$$\n",
    "are calculated for given values from previous assignment.\n",
    "\n",
    "\n",
    "Stochastic gradient descent requires two parameters:\n",
    "\n",
    "    Learning Rate: Used to limit the amount each coefficient is corrected each time it is updated.\n",
    "    \n",
    "    Epochs: The number of times to run through the training data while updating the coefficients.\n",
    "    \n",
    "    There are 3 loops we need to perform in the function:\n",
    "\n",
    "    a. Loop over each epoch.\n",
    "    b. Loop over each row in the training data for an epoch.\n",
    "    c. Loop over each coefficient and update it for a row in an epoch.\n",
    "Part 1\n",
    "\n",
    "// for Trial - dataset = [[1, 1], [2, 3], [4, 3], [3, 2], [5, 5]]\n",
    "\n",
    "\n",
    "\n",
    "1. Start with 0 (zero ) value for  m & c .\n",
    "2. Using cost function \n",
    "    $$J(\\theta) = \\frac{1}{2m}\\sum_{i=1}^m(h_\\theta(x^{(i)})-y^{(i)})^2$$\n",
    "    where $(h_\\theta(x^{(i)})$ is prediction for present iteration\n",
    "\n",
    "\n",
    "    $$\\theta_1(t+1) = \\theta_1(t) - learning\\_rate * cost(t) * x(t)$$\n",
    "    $$\\theta_0(t+1) = \\theta_0(t) - learning\\_rate * cost(t) $$\n",
    "\n",
    "\n",
    "3. Find the values of $\\theta_1$ & $\\theta_0$ by updating the values with learning rate of 0.005, 0.0005 etc and epoch value 100,500,1000\n",
    "4. Stop the iterations when error falls below threshold\n",
    "\n"
   ]
  },
  {
   "cell_type": "markdown",
   "metadata": {
    "slideshow": {
     "slide_type": "slide"
    }
   },
   "source": [
    "Part 2\n",
    "1. Display the graph of decreasing cost function wrt learning rate and epoch\n",
    "2. Compare time complexity of tensorflow api and user defined function\n",
    "3. Start with random values of $\\theta_1$ & $\\theta_0$ . Analyse best approach for initial values of $\\theta_1$ & $\\theta_0$.\n"
   ]
  },
  {
   "cell_type": "code",
   "execution_count": null,
   "metadata": {
    "collapsed": true
   },
   "outputs": [],
   "source": [
    "Part 3\n",
    "1. Write analysis on how optimization was improved.\n",
    "2. Implement 3 cost functions"
   ]
  },
  {
   "cell_type": "markdown",
   "metadata": {
    "slideshow": {
     "slide_type": "slide"
    }
   },
   "source": [
    "\n",
    "\n",
    " Additional Cost Function : \n",
    " \n",
    " A1 = Root Mean Square Error\n",
    " A2 =\n",
    " B1 =\n",
    " B2 =\n",
    " C1 =\n",
    " C2 =\n",
    " D1 =\n",
    " D2 = Sum of Square Error"
   ]
  },
  {
   "cell_type": "code",
   "execution_count": 1,
   "metadata": {
    "collapsed": true,
    "slideshow": {
     "slide_type": "-"
    }
   },
   "outputs": [],
   "source": [
    "import tensorflow as tf\n"
   ]
  },
  {
   "cell_type": "code",
   "execution_count": 8,
   "metadata": {},
   "outputs": [
    {
     "name": "stdout",
     "output_type": "stream",
     "text": [
      "3.09506\n",
      "-3.71898\n"
     ]
    }
   ],
   "source": [
    "with tf.name_scope(\"Init\"):\n",
    "    arrayX= [1.0, 2.0, 3.0, 4.0, 5.0, 6.0, 7.6, 8.0, 9.68, 10]         #input array for X\n",
    "    arrayY = [2.0, 4.0, 6.0, 8.0, 10.0, 12.0, 15, 19, 29, 32]      #input array for Y\n",
    "    x = tf.constant(arrayX, name='x', dtype=tf.float32)              #tf array for X\n",
    "    y = tf.constant(arrayY, name='y', dtype=tf.float32)              #tf array for Y\n",
    "\n",
    "#Mean of X & Y\n",
    "with tf.name_scope(\"Mean-X-Y\"):\n",
    "    meanX = tf.reduce_mean(x, [0])\n",
    "    meanY = tf.reduce_mean(y, [0])\n",
    "\n",
    "    temp1= tf.subtract(x,meanX)\n",
    "    temp2= tf.subtract(y,meanY)\n",
    "    temp3 = tf.reduce_sum(tf.multiply(temp1,temp2))\n",
    "    temp4=tf.reduce_sum(tf.square(tf.subtract(x,meanX)))\n",
    "    Theta1=tf.divide(temp3,temp4)\n",
    "    Theta0=tf.subtract(meanY,tf.multiply(Theta1,meanX))\n",
    "with tf.Session() as sect:\n",
    "    print(sect.run(Theta1))\n",
    "    print(sect.run(Theta0))"
   ]
  },
  {
   "cell_type": "code",
   "execution_count": null,
   "metadata": {
    "collapsed": true
   },
   "outputs": [],
   "source": [
    "def h0(x):\n",
    "    return "
   ]
  }
 ],
 "metadata": {
  "celltoolbar": "Slideshow",
  "kernelspec": {
   "display_name": "Python 3",
   "language": "python",
   "name": "python3"
  },
  "language_info": {
   "codemirror_mode": {
    "name": "ipython",
    "version": 3
   },
   "file_extension": ".py",
   "mimetype": "text/x-python",
   "name": "python",
   "nbconvert_exporter": "python",
   "pygments_lexer": "ipython3",
   "version": "3.6.1"
  }
 },
 "nbformat": 4,
 "nbformat_minor": 2
}
