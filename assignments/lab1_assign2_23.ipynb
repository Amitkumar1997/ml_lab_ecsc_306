{
 "cells": [
  {
   "cell_type": "code",
   "execution_count": 74,
   "metadata": {},
   "outputs": [
    {
     "name": "stdout",
     "output_type": "stream",
     "text": [
      "[ 12.39999962  13.5         18.70000076  12.80000019]\n",
      "[ 18.79999924  12.39999962  20.5         29.89999962]\n",
      "mean is: 14.35\n",
      "varience: 6.4625\n"
     ]
    }
   ],
   "source": [
    "\n",
    "\n",
    "##Read 2 arrays x,y containing floating point values\n",
    "    #importing the tensor flow and numpy\n",
    "import tensorflow as tf\n",
    "import numpy as np\n",
    "\n",
    "arrX= [12.4 , 13.5 , 18.7 , 12.8]\n",
    "x = tf.constant(arrX)\n",
    "sect=tf.Session()\n",
    "print(sect.run(x))\n",
    "\n",
    "y = tf.constant([18.8 , 12.4 , 20.5 , 29.9])\n",
    "sect=tf.Session()\n",
    "print(sect.run(y))\n",
    "\n",
    "m1,v1 = tf.nn.moments(x, axes=[0])\n",
    "with tf.Session() as sect:\n",
    "    m1=sect.run(m1)\n",
    "    v1=sect.run(v1)\n",
    "    print(\"mean is:\",m1)\n",
    "    print(\"varience:\",v1)\n",
    "    "
   ]
  },
  {
   "cell_type": "code",
   "execution_count": 75,
   "metadata": {},
   "outputs": [
    {
     "name": "stdout",
     "output_type": "stream",
     "text": [
      "mean is: 20.4\n",
      "varience: 39.205\n"
     ]
    }
   ],
   "source": [
    "m2,v2 = tf.nn.moments(y, axes=[0])\n",
    "with tf.Session() as sect:\n",
    "    m2=sect.run(m2)\n",
    "    v2=sect.run(v2)\n",
    "    print(\"mean is:\",m2)\n",
    "    print(\"varience:\",v2)\n",
    "    "
   ]
  },
  {
   "cell_type": "code",
   "execution_count": 76,
   "metadata": {},
   "outputs": [
    {
     "name": "stdout",
     "output_type": "stream",
     "text": [
      "[-1.95000076 -0.85000038  4.35000038 -1.55000019]\n"
     ]
    }
   ],
   "source": [
    "xi=tf.subtract(x,m1)\n",
    "with tf.Session() as sect:\n",
    "    ot=sect.run(xi)\n",
    "    print(ot)"
   ]
  },
  {
   "cell_type": "code",
   "execution_count": 77,
   "metadata": {},
   "outputs": [
    {
     "name": "stdout",
     "output_type": "stream",
     "text": [
      "[  4.44999886  -1.95000076   6.14999962  15.54999924]\n"
     ]
    }
   ],
   "source": [
    "yi=tf.subtract(y,m1)\n",
    "with tf.Session() as sect:\n",
    "    opt=sect.run(yi)\n",
    "    print(opt)"
   ]
  },
  {
   "cell_type": "code",
   "execution_count": 78,
   "metadata": {},
   "outputs": [
    {
     "name": "stdout",
     "output_type": "stream",
     "text": [
      "4\n",
      "[ -8.67750072   1.65750134  26.75250053 -24.10250092]\n"
     ]
    }
   ],
   "source": [
    "p=tf.multiply(ot,opt)\n",
    "n=len(arrX)\n",
    "print(n)\n",
    "with tf.Session() as sect:\n",
    "    prod=sect.run(p)\n",
    "    print(prod)\n",
    "    "
   ]
  },
  {
   "cell_type": "code",
   "execution_count": 79,
   "metadata": {},
   "outputs": [
    {
     "name": "stdout",
     "output_type": "stream",
     "text": [
      "covar is: -1.0925\n"
     ]
    }
   ],
   "source": [
    "sm=tf.reduce_sum(prod)\n",
    "covar=tf.divide(sm,n)\n",
    "with tf.Session() as sect:\n",
    "    covarience=sect.run(covar)\n",
    "    print(\"covar is:\",covarience)\n",
    "    "
   ]
  },
  {
   "cell_type": "code",
   "execution_count": 80,
   "metadata": {},
   "outputs": [
    {
     "name": "stdout",
     "output_type": "stream",
     "text": [
      "-0.169052\n"
     ]
    }
   ],
   "source": [
    "##m=covariance(x,y)/variance(x)\n",
    "m = tf.div(covarience,v1)\n",
    "with tf.Session() as sect:\n",
    "    M=sect.run(m)\n",
    "    print(M)"
   ]
  },
  {
   "cell_type": "code",
   "execution_count": 81,
   "metadata": {},
   "outputs": [
    {
     "name": "stdout",
     "output_type": "stream",
     "text": [
      "22.8259\n"
     ]
    }
   ],
   "source": [
    "##c=mean(y)−m∗mean(x)\n",
    "c1=tf.multiply(M,m1)\n",
    "c=tf.subtract(m2,c1)\n",
    "with tf.Session() as sect:\n",
    "    C=sect.run(c)\n",
    "    print(C)"
   ]
  },
  {
   "cell_type": "code",
   "execution_count": null,
   "metadata": {
    "collapsed": true
   },
   "outputs": [],
   "source": []
  },
  {
   "cell_type": "code",
   "execution_count": null,
   "metadata": {
    "collapsed": true
   },
   "outputs": [],
   "source": []
  }
 ],
 "metadata": {
  "kernelspec": {
   "display_name": "Python 3",
   "language": "python",
   "name": "python3"
  },
  "language_info": {
   "codemirror_mode": {
    "name": "ipython",
    "version": 3
   },
   "file_extension": ".py",
   "mimetype": "text/x-python",
   "name": "python",
   "nbconvert_exporter": "python",
   "pygments_lexer": "ipython3",
   "version": "3.6.1"
  }
 },
 "nbformat": 4,
 "nbformat_minor": 2
}
