{
 "cells": [
  {
   "cell_type": "code",
   "execution_count": 20,
   "metadata": {},
   "outputs": [
    {
     "name": "stdout",
     "output_type": "stream",
     "text": [
      "[ 12.39999962  13.5         18.70000076  12.80000019]\n",
      "[ 18.79999924  12.39999962  20.5         29.89999962]\n",
      "size of array: 4\n",
      "mean of X is: 14.35\n",
      "varience of X: 6.4625\n",
      "mean  of Y is: 20.4\n",
      "varience of Y : 39.205\n",
      "[-1.95000076 -0.85000038  4.35000038 -1.55000019]\n",
      "[  4.44999886  -1.95000076   6.14999962  15.54999924]\n",
      "[ -8.67750072   1.65750134  26.75250053 -24.10250092]\n",
      "covarience is: -5.38671\n",
      "slope is: -0.375381\n",
      "intercepts is: 25.7867\n"
     ]
    }
   ],
   "source": [
    "import tensorflow as tf\n",
    "import numpy as np\n",
    "\n",
    "arrayX= [12.4 , 13.5 , 18.7 , 12.8]\n",
    "x = tf.constant(arrayX)\n",
    "sect=tf.Session()\n",
    "print(sect.run(x))\n",
    "arrayY= [18.8 , 12.4 , 20.5 , 29.9]\n",
    "y = tf.constant(arrayY)\n",
    "sect=tf.Session()\n",
    "print(sect.run(y))\n",
    "\n",
    "n=len(arrayX)\n",
    "print(\"size of array:\",n)\n",
    "\n",
    "m1,v1 = tf.nn.moments(x, axes=[0])  ##mean and varience of X\n",
    "m2,v2 = tf.nn.moments(y, axes=[0])  ##mean and varience of Y\n",
    "\n",
    "xi=tf.subtract(x,m1)                ##to find xi\n",
    "yi=tf.subtract(y,m1)                ##to find yi\n",
    "\n",
    "\n",
    "p=tf.multiply(t1,t2)               ##multiply  xi and yi\n",
    "\n",
    "\n",
    "sum1=tf.reduce_sum(M)              ##for calculating covarience\n",
    "c1=tf.divide(sum1,n)\n",
    "\n",
    "\n",
    "slope1= tf.divide(covar,v1)         ##m=covariance(x,y)/variance(x) ##to calculate slope\n",
    "\n",
    "\n",
    "                                        \n",
    "c1=tf.multiply(m,m1)                ##c=mean(y)−m∗mean(x) \n",
    "c=tf.subtract(m2,c1)\n",
    "\n",
    "with tf.Session() as sect:\n",
    "    m1=sect.run(m1)\n",
    "    v1=sect.run(v1)\n",
    "    m2=sect.run(m2)\n",
    "    v2=sect.run(v2)\n",
    "    print(\"mean of X is:\",m1)\n",
    "    print(\"varience of X:\",v1)\n",
    "    print(\"mean  of Y is:\",m2)\n",
    "    print(\"varience of Y :\",v2)\n",
    "    t1=sect.run(xi)                 ## xi function call\n",
    "    print(t1)\n",
    "    t2=sect.run(yi)                 ## yi function call\n",
    "    print(t2)\n",
    "    M=sect.run(p)                  ##product of xi and yi array\n",
    "    print(M)\n",
    "    covar=sect.run(c1)\n",
    "    print(\"covarience is:\",covar)      ##slope call  \n",
    "    m=sect.run(slope1)\n",
    "    print(\"slope is:\",m)\n",
    "    \n",
    "    C=sect.run(c)\n",
    "    print(\"intercepts is:\",C)\n",
    "    \n",
    "    writer = tf.summary.FileWriter(\"/tmp/tboard/output_HW_1\",sect.graph)\n",
    "    writer.close()"
   ]
  },
  {
   "cell_type": "code",
   "execution_count": 29,
   "metadata": {},
   "outputs": [
    {
     "name": "stdout",
     "output_type": "stream",
     "text": [
      "Equation: y = 2.0x + 5.000000298023242\n"
     ]
    }
   ],
   "source": [
    "import tensorflow as tf\n",
    "\n",
    "# Point 1\n",
    "x1 = tf.constant(2, dtype=tf.float32)\n",
    "y1 = tf.constant(9, dtype=tf.float32)\n",
    "point1 = tf.stack([x1, y1])\n",
    "\n",
    "# Point 2\n",
    "x2 = tf.constant(-1, dtype=tf.float32)\n",
    "y2 = tf.constant(3, dtype=tf.float32)\n",
    "point2 = tf.stack([x2, y2])\n",
    "\n",
    "# Combine points into an array\n",
    "X = tf.transpose(tf.stack([point1, point2]))\n",
    "B = tf.ones((1, 2), dtype=tf.float32)\n",
    "\n",
    "parameters = tf.matmul(B, tf.matrix_inverse(X))\n",
    "\n",
    "with tf.Session() as session:\n",
    "    A = session.run(parameters)\n",
    "    b = 1 / A[0][1]\n",
    "    a = -b * A[0][0]\n",
    "    print(\"Equation: y = {a}x + {b}\".format(a=a, b=b))\n",
    "     writer = tf.summary.FileWriter(\"/tmp/tboard/output_HW_2\",sect.graph)\n",
    "    writer.close()\n"
   ]
  },
  {
   "cell_type": "code",
   "execution_count": null,
   "metadata": {
    "collapsed": true
   },
   "outputs": [],
   "source": []
  }
 ],
 "metadata": {
  "kernelspec": {
   "display_name": "Python 3",
   "language": "python",
   "name": "python3"
  },
  "language_info": {
   "codemirror_mode": {
    "name": "ipython",
    "version": 3
   },
   "file_extension": ".py",
   "mimetype": "text/x-python",
   "name": "python",
   "nbconvert_exporter": "python",
   "pygments_lexer": "ipython3",
   "version": "3.6.1"
  }
 },
 "nbformat": 4,
 "nbformat_minor": 2
}
